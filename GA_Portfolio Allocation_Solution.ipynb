{
 "cells": [
  {
   "cell_type": "markdown",
   "metadata": {},
   "source": [
    "# <center>Portfolio Allocation using GA</center>\n",
    "___"
   ]
  },
  {
   "cell_type": "code",
   "execution_count": 1,
   "metadata": {},
   "outputs": [],
   "source": [
    "import os\n",
    "import pandas as pd\n",
    "import numpy as np\n",
    "\n",
    "# set the working directory to the drive where stocks directory is present\n",
    "os.chdir('C:/Users/Pavan/Desktop/Batch Files/Aug 29/20200829_Batch80A_CSE7221o_GA_Portfolio Allocation_Solution.ipynb/GA_PracticeExercise/stocks/stocks/')"
   ]
  },
  {
   "cell_type": "markdown",
   "metadata": {},
   "source": [
    "#### Define function to obtain .csv filenames"
   ]
  },
  {
   "cell_type": "code",
   "execution_count": 4,
   "metadata": {},
   "outputs": [
    {
     "data": {
      "text/plain": [
       "['.ipynb_checkpoints',\n",
       " 'Genetic Algorithm - Portfolio Allocation-checkpoint.ipynb',\n",
       " 'hdfc.csv',\n",
       " 'itc.csv',\n",
       " 'l&t.csv',\n",
       " 'm&m.csv',\n",
       " 'sunpha.csv',\n",
       " 'tcs.csv']"
      ]
     },
     "execution_count": 4,
     "metadata": {},
     "output_type": "execute_result"
    }
   ],
   "source": [
    "os.listdir(os.getcwd())"
   ]
  },
  {
   "cell_type": "code",
   "execution_count": 6,
   "metadata": {},
   "outputs": [
    {
     "data": {
      "text/plain": [
       "['hdfc', 'itc', 'l&t', 'm&m', 'sunpha', 'tcs']"
      ]
     },
     "execution_count": 6,
     "metadata": {},
     "output_type": "execute_result"
    }
   ],
   "source": [
    "def obtain_filenames(path):\n",
    "    \n",
    "    name = []\n",
    "    \n",
    "    # This loop will search all the files in given path and \n",
    "    # selects file names which end with .csv\n",
    "    for file in os.listdir(path):\n",
    "        if file.endswith('.csv'):\n",
    "            name.append(file.split(sep = '.')[0]) #name with . split the string\n",
    "            \n",
    "    return name\n",
    "\n",
    "scrip_names = obtain_filenames(os.getcwd())\n",
    "scrip_names"
   ]
  },
  {
   "cell_type": "markdown",
   "metadata": {},
   "source": [
    "#### Define function to calculate returns for each stock"
   ]
  },
  {
   "cell_type": "code",
   "execution_count": 7,
   "metadata": {},
   "outputs": [
    {
     "data": {
      "text/html": [
       "<div>\n",
       "<style scoped>\n",
       "    .dataframe tbody tr th:only-of-type {\n",
       "        vertical-align: middle;\n",
       "    }\n",
       "\n",
       "    .dataframe tbody tr th {\n",
       "        vertical-align: top;\n",
       "    }\n",
       "\n",
       "    .dataframe thead th {\n",
       "        text-align: right;\n",
       "    }\n",
       "</style>\n",
       "<table border=\"1\" class=\"dataframe\">\n",
       "  <thead>\n",
       "    <tr style=\"text-align: right;\">\n",
       "      <th></th>\n",
       "      <th>hdfc</th>\n",
       "      <th>itc</th>\n",
       "      <th>l&amp;t</th>\n",
       "      <th>m&amp;m</th>\n",
       "      <th>sunpha</th>\n",
       "      <th>tcs</th>\n",
       "    </tr>\n",
       "  </thead>\n",
       "  <tbody>\n",
       "    <tr>\n",
       "      <td>3month</td>\n",
       "      <td>0.114515</td>\n",
       "      <td>0.039664</td>\n",
       "      <td>-0.030947</td>\n",
       "      <td>0.211564</td>\n",
       "      <td>0.131510</td>\n",
       "      <td>0.296599</td>\n",
       "    </tr>\n",
       "    <tr>\n",
       "      <td>6month</td>\n",
       "      <td>0.125163</td>\n",
       "      <td>0.011212</td>\n",
       "      <td>0.011417</td>\n",
       "      <td>0.194062</td>\n",
       "      <td>-0.017957</td>\n",
       "      <td>0.368094</td>\n",
       "    </tr>\n",
       "    <tr>\n",
       "      <td>12month</td>\n",
       "      <td>0.275866</td>\n",
       "      <td>-0.178478</td>\n",
       "      <td>0.129783</td>\n",
       "      <td>0.330899</td>\n",
       "      <td>0.010911</td>\n",
       "      <td>0.562537</td>\n",
       "    </tr>\n",
       "    <tr>\n",
       "      <td>18month</td>\n",
       "      <td>0.750581</td>\n",
       "      <td>0.104171</td>\n",
       "      <td>0.413121</td>\n",
       "      <td>0.514277</td>\n",
       "      <td>-0.109885</td>\n",
       "      <td>0.564125</td>\n",
       "    </tr>\n",
       "    <tr>\n",
       "      <td>24month</td>\n",
       "      <td>0.792712</td>\n",
       "      <td>0.084237</td>\n",
       "      <td>0.274461</td>\n",
       "      <td>0.255179</td>\n",
       "      <td>-0.265911</td>\n",
       "      <td>0.448330</td>\n",
       "    </tr>\n",
       "    <tr>\n",
       "      <td>36month</td>\n",
       "      <td>0.974847</td>\n",
       "      <td>0.266844</td>\n",
       "      <td>0.069614</td>\n",
       "      <td>0.399938</td>\n",
       "      <td>-0.358785</td>\n",
       "      <td>0.447535</td>\n",
       "    </tr>\n",
       "  </tbody>\n",
       "</table>\n",
       "</div>"
      ],
      "text/plain": [
       "             hdfc       itc       l&t       m&m    sunpha       tcs\n",
       "3month   0.114515  0.039664 -0.030947  0.211564  0.131510  0.296599\n",
       "6month   0.125163  0.011212  0.011417  0.194062 -0.017957  0.368094\n",
       "12month  0.275866 -0.178478  0.129783  0.330899  0.010911  0.562537\n",
       "18month  0.750581  0.104171  0.413121  0.514277 -0.109885  0.564125\n",
       "24month  0.792712  0.084237  0.274461  0.255179 -0.265911  0.448330\n",
       "36month  0.974847  0.266844  0.069614  0.399938 -0.358785  0.447535"
      ]
     },
     "execution_count": 7,
     "metadata": {},
     "output_type": "execute_result"
    }
   ],
   "source": [
    "def calculate_returns(scrip, l_o_m):\n",
    "    \n",
    "    stck_name_returns = {}\n",
    "    \n",
    "    for stck in scrip :\n",
    "        \n",
    "        # Read each stock data\n",
    "        stck_data = pd.read_csv(stck + '.csv', header = 0, sep = ',')\n",
    "        \n",
    "        # Calculate returns for each stock according to list_of_months \n",
    "        returns = []\n",
    "        for i in l_o_m:\n",
    "            present_close = stck_data.loc[0, 'Close']\n",
    "            last_close = stck_data.loc[0 + i,'Close']\n",
    "            returns.append((present_close - last_close)/last_close)\n",
    "        \n",
    "        stck_name_returns[stck] = returns\n",
    "\n",
    "    return stck_name_returns\n",
    "\n",
    "###\n",
    "\n",
    "list_of_months, index_names = [3, 6, 12, 18, 24, 36], ['3month','6month','12month','18month','24month','36month']\n",
    "\n",
    "stck_returns = pd.DataFrame(calculate_returns(scrip_names, list_of_months),\n",
    "                            index = index_names)\n",
    "stck_returns\n"
   ]
  },
  {
   "cell_type": "markdown",
   "metadata": {},
   "source": [
    "#### Declare global variables"
   ]
  },
  {
   "cell_type": "code",
   "execution_count": 8,
   "metadata": {},
   "outputs": [],
   "source": [
    "# Constraint : Total amount to be invested - Rs.1,00,000/-\n",
    "max_allocation = 100000 # maximum budget that can be allocated\n",
    "\n",
    "weights = [0.30, 0.20, 0.15, 0.15, 0.10, 0.10] # More weight given to most recent returns\n",
    "mutation_probability = 0.5 # initial mutation probability\n",
    "number_of_iterations = 500 # number of GA iterations\n",
    "number_of_chrom_in_population = 500 # population size"
   ]
  },
  {
   "cell_type": "markdown",
   "metadata": {},
   "source": [
    "#### Generate initial population\n",
    "___\n",
    "\n",
    "- Gene : Weightage of a particular scrip in the portfolio\n",
    "- Chromosome : Sequence of the weightages of different scrips in the porfolio\n",
    "- Initial Population : Collection of different portfolios randomly generated.\n"
   ]
  },
  {
   "cell_type": "code",
   "execution_count": 9,
   "metadata": {},
   "outputs": [
    {
     "data": {
      "text/html": [
       "<div>\n",
       "<style scoped>\n",
       "    .dataframe tbody tr th:only-of-type {\n",
       "        vertical-align: middle;\n",
       "    }\n",
       "\n",
       "    .dataframe tbody tr th {\n",
       "        vertical-align: top;\n",
       "    }\n",
       "\n",
       "    .dataframe thead th {\n",
       "        text-align: right;\n",
       "    }\n",
       "</style>\n",
       "<table border=\"1\" class=\"dataframe\">\n",
       "  <thead>\n",
       "    <tr style=\"text-align: right;\">\n",
       "      <th></th>\n",
       "      <th>hdfc</th>\n",
       "      <th>itc</th>\n",
       "      <th>l&amp;t</th>\n",
       "      <th>m&amp;m</th>\n",
       "      <th>sunpha</th>\n",
       "      <th>tcs</th>\n",
       "    </tr>\n",
       "  </thead>\n",
       "  <tbody>\n",
       "    <tr>\n",
       "      <td>0</td>\n",
       "      <td>0.209365</td>\n",
       "      <td>0.226434</td>\n",
       "      <td>0.062627</td>\n",
       "      <td>0.215804</td>\n",
       "      <td>0.080517</td>\n",
       "      <td>0.205252</td>\n",
       "    </tr>\n",
       "    <tr>\n",
       "      <td>1</td>\n",
       "      <td>0.022006</td>\n",
       "      <td>0.107898</td>\n",
       "      <td>0.372664</td>\n",
       "      <td>0.113664</td>\n",
       "      <td>0.157009</td>\n",
       "      <td>0.226759</td>\n",
       "    </tr>\n",
       "    <tr>\n",
       "      <td>2</td>\n",
       "      <td>0.188858</td>\n",
       "      <td>0.174345</td>\n",
       "      <td>0.074357</td>\n",
       "      <td>0.198709</td>\n",
       "      <td>0.113626</td>\n",
       "      <td>0.250106</td>\n",
       "    </tr>\n",
       "    <tr>\n",
       "      <td>3</td>\n",
       "      <td>0.114377</td>\n",
       "      <td>0.237681</td>\n",
       "      <td>0.243159</td>\n",
       "      <td>0.111481</td>\n",
       "      <td>0.119062</td>\n",
       "      <td>0.174240</td>\n",
       "    </tr>\n",
       "    <tr>\n",
       "      <td>4</td>\n",
       "      <td>0.194572</td>\n",
       "      <td>0.016781</td>\n",
       "      <td>0.430171</td>\n",
       "      <td>0.081841</td>\n",
       "      <td>0.250248</td>\n",
       "      <td>0.026388</td>\n",
       "    </tr>\n",
       "  </tbody>\n",
       "</table>\n",
       "</div>"
      ],
      "text/plain": [
       "       hdfc       itc       l&t       m&m    sunpha       tcs\n",
       "0  0.209365  0.226434  0.062627  0.215804  0.080517  0.205252\n",
       "1  0.022006  0.107898  0.372664  0.113664  0.157009  0.226759\n",
       "2  0.188858  0.174345  0.074357  0.198709  0.113626  0.250106\n",
       "3  0.114377  0.237681  0.243159  0.111481  0.119062  0.174240\n",
       "4  0.194572  0.016781  0.430171  0.081841  0.250248  0.026388"
      ]
     },
     "execution_count": 9,
     "metadata": {},
     "output_type": "execute_result"
    }
   ],
   "source": [
    "def gen_init_population(pop, num_stocks):\n",
    "    \n",
    "    init_population = pd.DataFrame(columns = scrip_names)\n",
    "    \n",
    "    # Repeat it 'pop' number of times to generate population\n",
    "    for i in range(pop):\n",
    "        \n",
    "        # For each scrip, generate a random number between 0 and 1. \n",
    "        random = np.random.random(num_stocks)\n",
    "        \n",
    "        # Normalise this sequence as sum of weightage for scrips - should be equal to one.\n",
    "        # This sequence is one chromosome. \n",
    "        chromosome = random/(sum(random))\n",
    "        init_population.loc[i] = chromosome\n",
    "        \n",
    "    return init_population\n",
    "\n",
    "gen_init_population(number_of_chrom_in_population, len(scrip_names)).head()"
   ]
  },
  {
   "cell_type": "markdown",
   "metadata": {},
   "source": [
    "#### Define fitness function\n",
    "The fitness function calculates weighted return for the portfolio "
   ]
  },
  {
   "cell_type": "code",
   "execution_count": 10,
   "metadata": {},
   "outputs": [
    {
     "data": {
      "text/plain": [
       "0      0.232510\n",
       "1      0.204137\n",
       "2      0.219707\n",
       "3      0.264350\n",
       "4      0.110724\n",
       "         ...   \n",
       "495    0.271425\n",
       "496    0.175916\n",
       "497    0.243495\n",
       "498    0.135589\n",
       "499    0.101835\n",
       "Length: 500, dtype: float64"
      ]
     },
     "execution_count": 10,
     "metadata": {},
     "output_type": "execute_result"
    }
   ],
   "source": [
    "def fitness_func(max_alloc, population, stock_ret, wts):\n",
    "    \n",
    "    # For each scrip, calculate returns weighted by 'n-month' returns\n",
    "    weighted_stck_returns = stock_ret.apply(lambda x:(x * wts).sum())\n",
    "    \n",
    "    # Portfolio return in % considering scrip allocation weightage. \n",
    "    # For instance, for stock 1 in a particular portfolio,\n",
    "    # if the weighted return was 5% and this stock forms 20% of the portfolio, \n",
    "    # then % return on this stock is (20000*0.05)/100000\n",
    "    pfolio_return = population.apply(lambda x: sum((x * max_alloc)* weighted_stck_returns)/max_alloc, axis = 1)\n",
    "    return pfolio_return\n",
    "\n",
    "\n",
    "###\n",
    "\n",
    "fitness_func(max_allocation, \n",
    "             gen_init_population(number_of_chrom_in_population, len(scrip_names)),\n",
    "             stck_returns, \n",
    "             weights)\n"
   ]
  },
  {
   "cell_type": "code",
   "execution_count": 11,
   "metadata": {},
   "outputs": [
    {
     "data": {
      "text/html": [
       "<div>\n",
       "<style scoped>\n",
       "    .dataframe tbody tr th:only-of-type {\n",
       "        vertical-align: middle;\n",
       "    }\n",
       "\n",
       "    .dataframe tbody tr th {\n",
       "        vertical-align: top;\n",
       "    }\n",
       "\n",
       "    .dataframe thead th {\n",
       "        text-align: right;\n",
       "    }\n",
       "</style>\n",
       "<table border=\"1\" class=\"dataframe\">\n",
       "  <thead>\n",
       "    <tr style=\"text-align: right;\">\n",
       "      <th></th>\n",
       "      <th>hdfc</th>\n",
       "      <th>itc</th>\n",
       "      <th>l&amp;t</th>\n",
       "      <th>m&amp;m</th>\n",
       "      <th>sunpha</th>\n",
       "      <th>tcs</th>\n",
       "    </tr>\n",
       "  </thead>\n",
       "  <tbody>\n",
       "    <tr>\n",
       "      <td>3month</td>\n",
       "      <td>0.114515</td>\n",
       "      <td>0.039664</td>\n",
       "      <td>-0.030947</td>\n",
       "      <td>0.211564</td>\n",
       "      <td>0.131510</td>\n",
       "      <td>0.296599</td>\n",
       "    </tr>\n",
       "    <tr>\n",
       "      <td>6month</td>\n",
       "      <td>0.125163</td>\n",
       "      <td>0.011212</td>\n",
       "      <td>0.011417</td>\n",
       "      <td>0.194062</td>\n",
       "      <td>-0.017957</td>\n",
       "      <td>0.368094</td>\n",
       "    </tr>\n",
       "    <tr>\n",
       "      <td>12month</td>\n",
       "      <td>0.275866</td>\n",
       "      <td>-0.178478</td>\n",
       "      <td>0.129783</td>\n",
       "      <td>0.330899</td>\n",
       "      <td>0.010911</td>\n",
       "      <td>0.562537</td>\n",
       "    </tr>\n",
       "    <tr>\n",
       "      <td>18month</td>\n",
       "      <td>0.750581</td>\n",
       "      <td>0.104171</td>\n",
       "      <td>0.413121</td>\n",
       "      <td>0.514277</td>\n",
       "      <td>-0.109885</td>\n",
       "      <td>0.564125</td>\n",
       "    </tr>\n",
       "    <tr>\n",
       "      <td>24month</td>\n",
       "      <td>0.792712</td>\n",
       "      <td>0.084237</td>\n",
       "      <td>0.274461</td>\n",
       "      <td>0.255179</td>\n",
       "      <td>-0.265911</td>\n",
       "      <td>0.448330</td>\n",
       "    </tr>\n",
       "    <tr>\n",
       "      <td>36month</td>\n",
       "      <td>0.974847</td>\n",
       "      <td>0.266844</td>\n",
       "      <td>0.069614</td>\n",
       "      <td>0.399938</td>\n",
       "      <td>-0.358785</td>\n",
       "      <td>0.447535</td>\n",
       "    </tr>\n",
       "  </tbody>\n",
       "</table>\n",
       "</div>"
      ],
      "text/plain": [
       "             hdfc       itc       l&t       m&m    sunpha       tcs\n",
       "3month   0.114515  0.039664 -0.030947  0.211564  0.131510  0.296599\n",
       "6month   0.125163  0.011212  0.011417  0.194062 -0.017957  0.368094\n",
       "12month  0.275866 -0.178478  0.129783  0.330899  0.010911  0.562537\n",
       "18month  0.750581  0.104171  0.413121  0.514277 -0.109885  0.564125\n",
       "24month  0.792712  0.084237  0.274461  0.255179 -0.265911  0.448330\n",
       "36month  0.974847  0.266844  0.069614  0.399938 -0.358785  0.447535"
      ]
     },
     "execution_count": 11,
     "metadata": {},
     "output_type": "execute_result"
    }
   ],
   "source": [
    "stck_returns"
   ]
  },
  {
   "cell_type": "code",
   "execution_count": 12,
   "metadata": {
    "scrolled": true
   },
   "outputs": [
    {
     "data": {
      "text/plain": [
       "[0.3, 0.2, 0.15, 0.15, 0.1, 0.1]"
      ]
     },
     "execution_count": 12,
     "metadata": {},
     "output_type": "execute_result"
    }
   ],
   "source": [
    "weights"
   ]
  },
  {
   "cell_type": "code",
   "execution_count": 13,
   "metadata": {},
   "outputs": [
    {
     "data": {
      "text/plain": [
       "hdfc      0.390110\n",
       "itc       0.038104\n",
       "l&t       0.108842\n",
       "m&m       0.294570\n",
       "sunpha   -0.041454\n",
       "tcs       0.421184\n",
       "dtype: float64"
      ]
     },
     "execution_count": 13,
     "metadata": {},
     "output_type": "execute_result"
    }
   ],
   "source": [
    "stck_returns.apply(lambda x:(x * weights).sum())"
   ]
  },
  {
   "cell_type": "code",
   "execution_count": 14,
   "metadata": {
    "scrolled": true
   },
   "outputs": [
    {
     "data": {
      "text/plain": [
       "3month     0.114515\n",
       "6month     0.125163\n",
       "12month    0.275866\n",
       "18month    0.750581\n",
       "24month    0.792712\n",
       "36month    0.974847\n",
       "Name: hdfc, dtype: float64"
      ]
     },
     "execution_count": 14,
     "metadata": {},
     "output_type": "execute_result"
    }
   ],
   "source": [
    "stck_returns.iloc[:,0]"
   ]
  },
  {
   "cell_type": "code",
   "execution_count": 15,
   "metadata": {},
   "outputs": [
    {
     "data": {
      "text/plain": [
       "0.3901102751307821"
      ]
     },
     "execution_count": 15,
     "metadata": {},
     "output_type": "execute_result"
    }
   ],
   "source": [
    "(stck_returns.iloc[:,0] * weights).sum()"
   ]
  },
  {
   "cell_type": "markdown",
   "metadata": {},
   "source": [
    "#### Define selection function"
   ]
  },
  {
   "cell_type": "code",
   "execution_count": 16,
   "metadata": {},
   "outputs": [
    {
     "data": {
      "text/html": [
       "<div>\n",
       "<style scoped>\n",
       "    .dataframe tbody tr th:only-of-type {\n",
       "        vertical-align: middle;\n",
       "    }\n",
       "\n",
       "    .dataframe tbody tr th {\n",
       "        vertical-align: top;\n",
       "    }\n",
       "\n",
       "    .dataframe thead th {\n",
       "        text-align: right;\n",
       "    }\n",
       "</style>\n",
       "<table border=\"1\" class=\"dataframe\">\n",
       "  <thead>\n",
       "    <tr style=\"text-align: right;\">\n",
       "      <th></th>\n",
       "      <th>hdfc</th>\n",
       "      <th>itc</th>\n",
       "      <th>l&amp;t</th>\n",
       "      <th>m&amp;m</th>\n",
       "      <th>sunpha</th>\n",
       "      <th>tcs</th>\n",
       "    </tr>\n",
       "  </thead>\n",
       "  <tbody>\n",
       "    <tr>\n",
       "      <td>36</td>\n",
       "      <td>0.374497</td>\n",
       "      <td>0.164542</td>\n",
       "      <td>0.022796</td>\n",
       "      <td>0.017052</td>\n",
       "      <td>0.013365</td>\n",
       "      <td>0.407748</td>\n",
       "    </tr>\n",
       "    <tr>\n",
       "      <td>445</td>\n",
       "      <td>0.318868</td>\n",
       "      <td>0.004640</td>\n",
       "      <td>0.003248</td>\n",
       "      <td>0.201399</td>\n",
       "      <td>0.125076</td>\n",
       "      <td>0.346769</td>\n",
       "    </tr>\n",
       "    <tr>\n",
       "      <td>357</td>\n",
       "      <td>0.291948</td>\n",
       "      <td>0.017648</td>\n",
       "      <td>0.113075</td>\n",
       "      <td>0.392910</td>\n",
       "      <td>0.009887</td>\n",
       "      <td>0.174533</td>\n",
       "    </tr>\n",
       "    <tr>\n",
       "      <td>359</td>\n",
       "      <td>0.298684</td>\n",
       "      <td>0.108341</td>\n",
       "      <td>0.043213</td>\n",
       "      <td>0.180664</td>\n",
       "      <td>0.042101</td>\n",
       "      <td>0.326998</td>\n",
       "    </tr>\n",
       "    <tr>\n",
       "      <td>374</td>\n",
       "      <td>0.325172</td>\n",
       "      <td>0.053097</td>\n",
       "      <td>0.093740</td>\n",
       "      <td>0.196651</td>\n",
       "      <td>0.051452</td>\n",
       "      <td>0.279889</td>\n",
       "    </tr>\n",
       "  </tbody>\n",
       "</table>\n",
       "</div>"
      ],
      "text/plain": [
       "         hdfc       itc       l&t       m&m    sunpha       tcs\n",
       "36   0.374497  0.164542  0.022796  0.017052  0.013365  0.407748\n",
       "445  0.318868  0.004640  0.003248  0.201399  0.125076  0.346769\n",
       "357  0.291948  0.017648  0.113075  0.392910  0.009887  0.174533\n",
       "359  0.298684  0.108341  0.043213  0.180664  0.042101  0.326998\n",
       "374  0.325172  0.053097  0.093740  0.196651  0.051452  0.279889"
      ]
     },
     "execution_count": 16,
     "metadata": {},
     "output_type": "execute_result"
    }
   ],
   "source": [
    "def selection_func(fit_func, max_alloc, population, stock_ret,wts):\n",
    "    \n",
    "    # For each portfolio calculate portfolio returns using fitness_func\n",
    "    portfolio_return = fit_func(max_alloc, population, stock_ret,wts)\n",
    "    \n",
    "    # Select top 20% portfolio returns as elite population\n",
    "    selected_portfolio = portfolio_return.sort_values(ascending = False)[0 : int(0.2 * population.shape[0])]\n",
    "    elite = population.iloc[selected_portfolio.index, : ]\n",
    "    return elite\n",
    "\n",
    "###\n",
    "tmp_pop = selection_func(fitness_func, \n",
    "                         max_allocation, \n",
    "                         gen_init_population(number_of_chrom_in_population, len(scrip_names)),\n",
    "                         stck_returns, weights)\n",
    "tmp_pop.head()\n"
   ]
  },
  {
   "cell_type": "markdown",
   "metadata": {},
   "source": [
    "#### Define evolution function\n",
    "\n",
    "Arithmetic crossover and scramble mutation has been used - you are free to use any other crossover methods like one-point crossover, multi-point crossover or uniform crossover, and mutation methods like swap mutation and inversion mutation."
   ]
  },
  {
   "cell_type": "code",
   "execution_count": 17,
   "metadata": {},
   "outputs": [
    {
     "data": {
      "text/html": [
       "<div>\n",
       "<style scoped>\n",
       "    .dataframe tbody tr th:only-of-type {\n",
       "        vertical-align: middle;\n",
       "    }\n",
       "\n",
       "    .dataframe tbody tr th {\n",
       "        vertical-align: top;\n",
       "    }\n",
       "\n",
       "    .dataframe thead th {\n",
       "        text-align: right;\n",
       "    }\n",
       "</style>\n",
       "<table border=\"1\" class=\"dataframe\">\n",
       "  <thead>\n",
       "    <tr style=\"text-align: right;\">\n",
       "      <th></th>\n",
       "      <th>hdfc</th>\n",
       "      <th>itc</th>\n",
       "      <th>l&amp;t</th>\n",
       "      <th>m&amp;m</th>\n",
       "      <th>sunpha</th>\n",
       "      <th>tcs</th>\n",
       "    </tr>\n",
       "  </thead>\n",
       "  <tbody>\n",
       "    <tr>\n",
       "      <td>0</td>\n",
       "      <td>0.221643</td>\n",
       "      <td>0.132454</td>\n",
       "      <td>0.142927</td>\n",
       "      <td>0.084141</td>\n",
       "      <td>0.093253</td>\n",
       "      <td>0.325581</td>\n",
       "    </tr>\n",
       "    <tr>\n",
       "      <td>1</td>\n",
       "      <td>0.175680</td>\n",
       "      <td>0.049461</td>\n",
       "      <td>0.308982</td>\n",
       "      <td>0.128266</td>\n",
       "      <td>0.040968</td>\n",
       "      <td>0.296643</td>\n",
       "    </tr>\n",
       "    <tr>\n",
       "      <td>2</td>\n",
       "      <td>0.269217</td>\n",
       "      <td>0.080753</td>\n",
       "      <td>0.101548</td>\n",
       "      <td>0.207051</td>\n",
       "      <td>0.112485</td>\n",
       "      <td>0.228947</td>\n",
       "    </tr>\n",
       "    <tr>\n",
       "      <td>3</td>\n",
       "      <td>0.252394</td>\n",
       "      <td>0.098368</td>\n",
       "      <td>0.125226</td>\n",
       "      <td>0.225540</td>\n",
       "      <td>0.110431</td>\n",
       "      <td>0.188042</td>\n",
       "    </tr>\n",
       "    <tr>\n",
       "      <td>4</td>\n",
       "      <td>0.347764</td>\n",
       "      <td>0.009898</td>\n",
       "      <td>0.259379</td>\n",
       "      <td>0.133726</td>\n",
       "      <td>0.138159</td>\n",
       "      <td>0.111075</td>\n",
       "    </tr>\n",
       "  </tbody>\n",
       "</table>\n",
       "</div>"
      ],
      "text/plain": [
       "       hdfc       itc       l&t       m&m    sunpha       tcs\n",
       "0  0.221643  0.132454  0.142927  0.084141  0.093253  0.325581\n",
       "1  0.175680  0.049461  0.308982  0.128266  0.040968  0.296643\n",
       "2  0.269217  0.080753  0.101548  0.207051  0.112485  0.228947\n",
       "3  0.252394  0.098368  0.125226  0.225540  0.110431  0.188042\n",
       "4  0.347764  0.009898  0.259379  0.133726  0.138159  0.111075"
      ]
     },
     "execution_count": 17,
     "metadata": {},
     "output_type": "execute_result"
    }
   ],
   "source": [
    "def evolution_func(elite_pop, mut_prob, scrip, num_of_chrom_in_pop):\n",
    "    \n",
    "    new_pop = pd.DataFrame(columns = scrip)\n",
    "    new_pop_iter = 0\n",
    "    \n",
    "    while(new_pop_iter <= num_of_chrom_in_pop):\n",
    "        \n",
    "        # We would generate a random number and if the number is less than mutation probability, \n",
    "        # we will go for crossover\n",
    "        if np.random.random() < mut_prob:\n",
    "            \n",
    "            # The candidate is chosen randomly for mutation\n",
    "            candidate = np.random.randint(low = 0, high = elite_pop.shape[0], size = 1)\n",
    "            mutant = elite_pop.iloc[candidate,:].copy()\n",
    "            \n",
    "            # shuffle() randomly shuffles the allocation values for each scrip in a portfolio\n",
    "            np.random.shuffle(mutant)\n",
    "            new_pop = new_pop.append(mutant, ignore_index = True)\n",
    "            \n",
    "            # We prefer to explore much more in the beginning of the search process \n",
    "            # to ensure diversity and avoid local optimum. \n",
    "            # As we progress towards the end of search process ( or iterations), \n",
    "            # we need to ensure the convergence of the population to a good solution \n",
    "            # if not the best. Hence we keep on reducing mutation probability.\n",
    "            mut_prob = mut_prob/(new_pop_iter + 1)\n",
    "            \n",
    "        else:\n",
    "            \n",
    "            # The parents (elite portfolios) for crossover are chosen randomly\n",
    "            parent_indices = np.random.randint(low = 0, high = elite_pop.shape[0], size = 2)\n",
    "            parents = elite_pop.iloc[parent_indices,:]\n",
    "            \n",
    "            # The proportion of characteristic that should be captured in child from each parent is determined by a \n",
    "            # randomly generated number - alpha\n",
    "            alpha = np.random.random()\n",
    "            child1 = alpha * (parents.iloc[0, :]) + (1 - alpha) * (parents.iloc[1, :])\n",
    "            child2 = (1 - alpha) * (parents.iloc[0,:]) + alpha * (parents.iloc[1,:])\n",
    "            \n",
    "            new_pop = new_pop.append(dict(child1), ignore_index = True)\n",
    "            new_pop = new_pop.append(dict(child2), ignore_index = True)\n",
    "        \n",
    "        new_pop_iter += 1\n",
    "        \n",
    "    # To create a new population, we include both new population and elite population \n",
    "    # as there may be a case that we are already at a global optimum solution\n",
    "    new_pop = pd.concat([new_pop, elite_pop], ignore_index = True)\n",
    "    return new_pop\n",
    "\n",
    "###\n",
    "\n",
    "evolution_func(tmp_pop,\n",
    "               mutation_probability,\n",
    "               scrip_names,\n",
    "               number_of_chrom_in_population).head()\n"
   ]
  },
  {
   "cell_type": "markdown",
   "metadata": {},
   "source": [
    "#### Define main function"
   ]
  },
  {
   "cell_type": "code",
   "execution_count": 18,
   "metadata": {},
   "outputs": [],
   "source": [
    "def main_func():\n",
    "    \n",
    "    initial_population = gen_init_population(number_of_chrom_in_population,\n",
    "                                             len(scrip_names))\n",
    "    # initial_population.head()\n",
    "    \n",
    "    elite_population = selection_func(fitness_func,\n",
    "                                      max_allocation,\n",
    "                                      initial_population,\n",
    "                                      stck_returns,\n",
    "                                      weights)\n",
    "    elite_population.reset_index(inplace = True, drop = True)\n",
    "    # elite_population.head()\n",
    "    \n",
    "    new_population = evolution_func(elite_population,\n",
    "                                    mutation_probability,\n",
    "                                    scrip_names,\n",
    "                                    number_of_chrom_in_population)\n",
    "\n",
    "    # We run genetic algorithm for number_of_iterations times\n",
    "    for i in range(number_of_iterations):\n",
    "        \n",
    "        new_elite_population = selection_func(fitness_func,\n",
    "                                              max_allocation,\n",
    "                                              new_population,\n",
    "                                              stck_returns,weights)\n",
    "        new_population = evolution_func(new_elite_population,\n",
    "                                        mutation_probability,\n",
    "                                        scrip_names,\n",
    "                                        number_of_chrom_in_population)\n",
    "        \n",
    "    return new_population"
   ]
  },
  {
   "cell_type": "markdown",
   "metadata": {},
   "source": [
    "#### Call main function"
   ]
  },
  {
   "cell_type": "code",
   "execution_count": 19,
   "metadata": {},
   "outputs": [],
   "source": [
    "range_of_portfolios = main_func() "
   ]
  },
  {
   "cell_type": "markdown",
   "metadata": {},
   "source": [
    "#### Select the topmost portfolio"
   ]
  },
  {
   "cell_type": "code",
   "execution_count": 20,
   "metadata": {},
   "outputs": [
    {
     "data": {
      "text/plain": [
       "hdfc      0.336568\n",
       "itc       0.088856\n",
       "l&t       0.056169\n",
       "m&m       0.217941\n",
       "sunpha    0.005639\n",
       "tcs       0.294827\n",
       "Name: 1246, dtype: float64"
      ]
     },
     "execution_count": 20,
     "metadata": {},
     "output_type": "execute_result"
    }
   ],
   "source": [
    "top_portfolios = selection_func(fitness_func, \n",
    "                                max_allocation, \n",
    "                                range_of_portfolios, \n",
    "                                stck_returns, \n",
    "                                weights)\n",
    "\n",
    "final_portfolio = top_portfolios.iloc[0]\n",
    "final_portfolio"
   ]
  },
  {
   "cell_type": "markdown",
   "metadata": {},
   "source": [
    "#### Calculate portfolio returns"
   ]
  },
  {
   "cell_type": "code",
   "execution_count": 21,
   "metadata": {},
   "outputs": [
    {
     "data": {
      "text/plain": [
       "hdfc      0.390110\n",
       "itc       0.038104\n",
       "l&t       0.108842\n",
       "m&m       0.294570\n",
       "sunpha   -0.041454\n",
       "tcs       0.421184\n",
       "dtype: float64"
      ]
     },
     "execution_count": 21,
     "metadata": {},
     "output_type": "execute_result"
    }
   ],
   "source": [
    "weighted_stck_returns = stck_returns.apply(lambda x:(x * weights).sum())\n",
    "weighted_stck_returns"
   ]
  },
  {
   "cell_type": "code",
   "execution_count": 22,
   "metadata": {},
   "outputs": [
    {
     "name": "stdout",
     "output_type": "stream",
     "text": [
      "The portfolio return is: 0.329\n"
     ]
    }
   ],
   "source": [
    "portfolio_return = sum((final_portfolio * max_allocation) * weighted_stck_returns)/max_allocation\n",
    "\n",
    "print('The portfolio return is: {0:.3f}'.format(portfolio_return))"
   ]
  },
  {
   "cell_type": "code",
   "execution_count": null,
   "metadata": {},
   "outputs": [],
   "source": []
  }
 ],
 "metadata": {
  "kernelspec": {
   "display_name": "Python 3",
   "language": "python",
   "name": "python3"
  },
  "language_info": {
   "codemirror_mode": {
    "name": "ipython",
    "version": 3
   },
   "file_extension": ".py",
   "mimetype": "text/x-python",
   "name": "python",
   "nbconvert_exporter": "python",
   "pygments_lexer": "ipython3",
   "version": "3.7.4"
  }
 },
 "nbformat": 4,
 "nbformat_minor": 2
}
